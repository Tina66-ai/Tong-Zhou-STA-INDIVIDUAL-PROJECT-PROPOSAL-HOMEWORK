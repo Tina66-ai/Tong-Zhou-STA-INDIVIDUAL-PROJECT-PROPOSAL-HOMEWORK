{
 "cells": [
  {
   "cell_type": "markdown",
   "id": "5edb5d41",
   "metadata": {},
   "source": [
    "Project Proposal\n",
    "Research Question 1\n",
    "1.Research Question: How do participants' age (DEMO_age) and likelihood of giving consent (ELIGIBLE_consent) relate to each other? \n",
    "2.Variables: The ages of the participants are provided by DEMO_age. As younger and older people may participate in surveys or research, age may have an impact. \n",
    "3.A single binary variable named eligible_consent (1 = consented, 0 = not consented) indicates the individual's level of consent. It important to utilise age to predict this outcome. \n",
    "4.Visualisation: A scatter plot. \n",
    "5.Analysis: To estimate the likelihood of consent (yes/no) based on age, I intend to employ logistic regression. Given that consent is a binary outcome, the link can be examined using logistic regression. \n",
    "6.My hypothesis is that older participants are more likely to give their consent because they could feel more at ease taking part in research.\n",
    "\n",
    "\n",
    "\n",
    "\n",
    "Research Question 2\n",
    "\n",
    "1.The study asks whether a participant's gender (DEMO_gender) affects their propensity to give consent (ELIGIBLE_consent). \n",
    "2.Variables: The DEMO_gender element indicates the participant's gender (e.g., Male, Female, Other). A person's willingness to participate in research may be influenced by their gender due to societal or cultural factors.\n",
    "3.ELIGIBLE_consent is another binary result that shows whether or not the individual consented to participate. \n",
    "4.Visualisation: A bar chart could be useful to compare the proportion of male, female, and other participants who consented with those who did not. \n",
    "5.Analysis: I plan to do a chi-squared test to ascertain whether gender and consent are independent. Since both are category variables, a chi-squared test is appropriate. \n",
    "6.According to my theory, men, women, and people with other gender identities may have different consent rates.\n",
    "\n",
    "Research Question 3\n",
    "\n",
    "Research Question: What is the relationship between the participants' province of residence (GEO_province) and their likelihood of providing their consent (ELIGIBLE_consent) to participate?\n",
    "Variables:\n",
    "The province GEO: The participant's home province is indicated here. Cultural perspectives on participation in research or access to opportunities may differ among provinces. Once more, the binary variable that indicates whether or not the person gave consent is eligible_consent. \n",
    "Visualisation: The consent rates in various jurisdictions can be displayed using a stacked bar chart. The percentage of participants who agreed and those who disagreed would be shown in the chart by province. \n",
    "Analysis: I will do logistic regression, adjusting for other variables as needed. \n",
    "I guess cultural differences or local research regulations may lead to differences in the proportion of participants from different provinces agreeing to participate in the study."
   ]
  }
 ],
 "metadata": {
  "kernelspec": {
   "display_name": "Python 3 (ipykernel)",
   "language": "python",
   "name": "python3"
  },
  "language_info": {
   "codemirror_mode": {
    "name": "ipython",
    "version": 3
   },
   "file_extension": ".py",
   "mimetype": "text/x-python",
   "name": "python",
   "nbconvert_exporter": "python",
   "pygments_lexer": "ipython3",
   "version": "3.11.6"
  }
 },
 "nbformat": 4,
 "nbformat_minor": 5
}
